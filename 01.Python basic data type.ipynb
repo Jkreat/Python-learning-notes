{
 "cells": [
  {
   "cell_type": "markdown",
   "metadata": {},
   "source": [
    "### Python命令行参数\n",
    "|选项|描述|\n",
    "|:----|:----|\n",
    "|-d|在解析时显示调试信息|\n",
    "|-O|生成优化代码 ( .pyo 文件 )|\n",
    "|-S|启动时不引入查找Python路径的位置|\n",
    "|-V|输出Python版本号|\n",
    "|-X|从 1.6版本之后基于内建的异常（仅仅用于字符串）已过时。|\n",
    "|-c cmd|执行 Python 脚本，并将运行结果作为 cmd 字符串|\n",
    "|file|\t在给定的python文件执行python脚本。|\n",
    "\n",
    "执行脚本方法：  \n",
    "在指定目录`python xxx.py`"
   ]
  },
  {
   "cell_type": "code",
   "execution_count": null,
   "metadata": {},
   "outputs": [],
   "source": []
  },
  {
   "cell_type": "markdown",
   "metadata": {},
   "source": [
    "### Python保留字"
   ]
  },
  {
   "cell_type": "code",
   "execution_count": 4,
   "metadata": {},
   "outputs": [
    {
     "name": "stdout",
     "output_type": "stream",
     "text": [
      "['False', 'None', 'True', 'and', 'as', 'assert', 'async', 'await', 'break', 'class', 'continue', 'def', 'del', 'elif', 'else', 'except', 'finally', 'for', 'from', 'global', 'if', 'import', 'in', 'is', 'lambda', 'nonlocal', 'not', 'or', 'pass', 'raise', 'return', 'try', 'while', 'with', 'yield']\n"
     ]
    }
   ],
   "source": [
    "import keyword\n",
    "print(keyword.kwlist)"
   ]
  },
  {
   "cell_type": "markdown",
   "metadata": {},
   "source": [
    "['False', 'None', 'True', 'and', 'as', 'assert', 'async', 'await', 'break', 'class', 'continue', 'def', 'del', 'elif', 'else', 'except', 'finally', 'for', 'from', 'global', 'if', 'import', 'in', 'is', 'lambda', 'nonlocal', 'not', 'or', 'pass', 'raise', 'return', 'try', 'while', 'with', 'yield']"
   ]
  },
  {
   "cell_type": "markdown",
   "metadata": {},
   "source": [
    "### Python数据类型\n",
    "**注意：下述类型中只有字符串string、列表list、元组tuple属于序列(sequence)且iterable，可以使用下标操作，可以放入`list()`, `tuple()`, `set()`等函数中构造其他类型**"
   ]
  },
  {
   "cell_type": "markdown",
   "metadata": {},
   "source": [
    "#### 数字类型：int, float, bool, complex"
   ]
  },
  {
   "cell_type": "code",
   "execution_count": 6,
   "metadata": {},
   "outputs": [
    {
     "name": "stdout",
     "output_type": "stream",
     "text": [
      "<class 'int'> <class 'float'> <class 'bool'> <class 'complex'>\n"
     ]
    }
   ],
   "source": [
    "a, b, c, d = 20, 5.5, True, 4+3j\n",
    "print(type(a), type(b), type(c), type(d))\n",
    "#<class 'int'> <class 'float'> <class 'bool'> <class 'complex'>"
   ]
  },
  {
   "cell_type": "markdown",
   "metadata": {},
   "source": [
    "#### print()\n",
    "\n",
    "* objects -- 复数，表示可以一次输出多个对象。输出多个对象时，需要用 , 分隔。\n",
    "* sep -- 用来间隔多个对象，默认值是一个空格。\n",
    "* end -- 用来设定以什么结尾。默认值是换行符 \\n，我们可以换成其他字符串。\n",
    "* file -- 要写入的文件对象。\n",
    "* flush -- 输出是否被缓存通常决定于 file，但如果 flush 关键字参数为 True，流会被强制刷新。"
   ]
  },
  {
   "cell_type": "code",
   "execution_count": 9,
   "metadata": {},
   "outputs": [
    {
     "name": "stdout",
     "output_type": "stream",
     "text": [
      "axxxxbxxxxcxxxxd!\n"
     ]
    }
   ],
   "source": [
    "a, b, c, d = 20, 5.5, True, 4+3j\n",
    "print('a', 'b', 'c', 'd', sep='xxxx', end='!\\n', flush=False)\n",
    "#axxxxbxxxxcxxxxd!\\n"
   ]
  },
  {
   "cell_type": "markdown",
   "metadata": {},
   "source": [
    "#### 数值运算\n",
    "混合计算时，全部转为浮点数处理"
   ]
  },
  {
   "cell_type": "code",
   "execution_count": 23,
   "metadata": {},
   "outputs": [
    {
     "name": "stdout",
     "output_type": "stream",
     "text": [
      "10 -0.7999999999999998 16 5.0 2.0 0.5999999999999996\n"
     ]
    }
   ],
   "source": [
    "print(\n",
    "    (5+5),# 10\n",
    "    (4.2-5),# -0.7999999999999998\n",
    "    (2*8),# 16\n",
    "    (11/2.2),# 5.0,永远返回浮点数\n",
    "    (5//2.2),# 2.0\n",
    "    (5%2.2))# 0.5999999999999996"
   ]
  },
  {
   "cell_type": "markdown",
   "metadata": {},
   "source": [
    "#### 字符串操作"
   ]
  },
  {
   "cell_type": "code",
   "execution_count": 25,
   "metadata": {},
   "outputs": [
    {
     "name": "stdout",
     "output_type": "stream",
     "text": [
      "Yes,he doesn't <class 'str'> 14\n"
     ]
    }
   ],
   "source": [
    "s = 'Yes,he doesn\\'t'\n",
    "print(s, type(s), len(s))\n",
    "#Yes,he doesn't <class 'str'> 14"
   ]
  },
  {
   "cell_type": "markdown",
   "metadata": {},
   "source": [
    "在前面加r或R表示原始字符串避免转义："
   ]
  },
  {
   "cell_type": "code",
   "execution_count": 27,
   "metadata": {},
   "outputs": [
    {
     "name": "stdout",
     "output_type": "stream",
     "text": [
      "Yes,he doesn\\'t\n"
     ]
    }
   ],
   "source": [
    "s = r'Yes,he doesn\\'t'\n",
    "print(s)"
   ]
  },
  {
   "cell_type": "markdown",
   "metadata": {},
   "source": [
    "##### 字符串切分"
   ]
  },
  {
   "cell_type": "code",
   "execution_count": 35,
   "metadata": {},
   "outputs": [
    {
     "name": "stdout",
     "output_type": "stream",
     "text": [
      "P n\n",
      "n P\n",
      "ytho\n",
      "\n",
      "ytho\n",
      "\n"
     ]
    }
   ],
   "source": [
    "word = 'Python'\n",
    "print(word[0], word[5])\n",
    "print(word[-1], word[-6])\n",
    "print(word[1:5])\n",
    "print(word[5:1]) # 无用，应前小后大\n",
    "print(word[-5:-1])\n",
    "print(word[1:1]) # 无用，因前闭后开"
   ]
  },
  {
   "cell_type": "markdown",
   "metadata": {},
   "source": [
    "字符串不能赋值(不同于C)，如下会报错："
   ]
  },
  {
   "cell_type": "code",
   "execution_count": 34,
   "metadata": {},
   "outputs": [
    {
     "ename": "TypeError",
     "evalue": "'str' object does not support item assignment",
     "output_type": "error",
     "traceback": [
      "\u001b[1;31m---------------------------------------------------------------------------\u001b[0m",
      "\u001b[1;31mTypeError\u001b[0m                                 Traceback (most recent call last)",
      "\u001b[1;32m<ipython-input-34-32db1c3493f7>\u001b[0m in \u001b[0;36m<module>\u001b[1;34m\u001b[0m\n\u001b[0;32m      1\u001b[0m \u001b[0mword\u001b[0m \u001b[1;33m=\u001b[0m \u001b[1;34m'Python'\u001b[0m\u001b[1;33m\u001b[0m\u001b[1;33m\u001b[0m\u001b[0m\n\u001b[1;32m----> 2\u001b[1;33m \u001b[0mword\u001b[0m\u001b[1;33m[\u001b[0m\u001b[1;36m0\u001b[0m\u001b[1;33m]\u001b[0m \u001b[1;33m=\u001b[0m \u001b[1;34m'p'\u001b[0m\u001b[1;33m\u001b[0m\u001b[1;33m\u001b[0m\u001b[0m\n\u001b[0m",
      "\u001b[1;31mTypeError\u001b[0m: 'str' object does not support item assignment"
     ]
    }
   ],
   "source": [
    "word = 'Python'\n",
    "word[0] = 'p'\n",
    "#'str' object does not support item assignment"
   ]
  },
  {
   "cell_type": "markdown",
   "metadata": {},
   "source": [
    "##### 字符串格式化\n",
    "\n",
    "Python的字符串格式化有两种方式: 百分号方式、format方式\n",
    "百分号的方式相对较老，而format方式则较为先进、将替换前述的方式，目前两者并存。\n",
    "[官方参考](https://docs.python.org/3/library/string.html) \n",
    "[cnblogs](https://www.cnblogs.com/nulige/p/6115793.html)"
   ]
  },
  {
   "cell_type": "code",
   "execution_count": 173,
   "metadata": {},
   "outputs": [
    {
     "name": "stdout",
     "output_type": "stream",
     "text": [
      "a, b, c\n",
      "a, b, c\n",
      "c, b, a\n",
      "c, b, a\n",
      "a, b, a\n",
      "a, b, c\n",
      "Coordinates: 37.24N, -115.81W\n",
      "Coordinates: 37.24N, -115.81W\n",
      "latitude longitude\n"
     ]
    }
   ],
   "source": [
    "# Accessing arguments by position:\n",
    "print('{0}, {1}, {2}'.format('a', 'b', 'c'))\n",
    "print('{}, {}, {}'.format('a', 'b', 'c')) # 3.1+ only\n",
    "print('{2}, {1}, {0}'.format('a', 'b', 'c'))\n",
    "print('{2}, {1}, {0}'.format(*'abc')) # unpacking argument sequence\n",
    "print('{0}, {1}, {0}'.format('a', 'b', 'c'))\n",
    "\n",
    "d, e, f = 'a', 'b', 'c'\n",
    "print('{0}, {1}, {2}'.format(d,e,f))\n",
    "\n",
    "# Accessing arguments by name:\n",
    "print('Coordinates: {latitude}, {longitude}'.format(latitude='37.24N', longitude='-115.81W'))\n",
    "coord = {'latitude': '37.24N', 'longitude': '-115.81W'}\n",
    "print('Coordinates: {latitude}, {longitude}'.format(**coord)) # 双星号表示转化为字典\n",
    "print(*coord) # 单星号表示转化为元组，舍弃赋值\n",
    "# print(**coord) # 不能打印，否则报错\n"
   ]
  },
  {
   "cell_type": "markdown",
   "metadata": {},
   "source": [
    "#### 列表操作\n",
    "\n",
    "[列表的高级使用](https://www.runoob.com/python3/python3-data-structure.html)<br/>\n",
    "**索引**和**切片**方式与字符串完全相似，不再赘述<br/>\n",
    "不同于字符串，可以赋值\n",
    "\n",
    "|方法|描述|\n",
    "|:----|:----|\n",
    "|list.append(x)\t|把一个元素添加到列表的结尾，相当于 a[len(a):] = [x]。|\n",
    "|list.extend(L)\t|通过添加指定列表的所有元素来扩充列表，相当于 a[len(a):] = L。|\n",
    "|list.insert(i, x)\t|在指定位置插入一个元素。第一个参数是准备插入到其前面的那个元素的索引，例如 a.insert(0, x) 会插入到整个列表之前，而 a.insert(len(a), x) 相当于 a.append(x) 。|\n",
    "|list.remove(x)\t|删除列表中值为 x 的第一个元素。如果没有这样的元素，就会返回一个错误。|\n",
    "|list.pop([i])\t|从列表的指定位置移除元素，并将其返回。如果没有指定索引，a.pop()返回最后一个元素。元素随即从列表中被移除。与append一起可以将list作为栈使用（方法中 i 两边的方括号表示这个参数是可选的，而不是要求你输入一对方括号，你会经常在 Python 库参考手册中遇到这样的标记。）|\n",
    "|list.popleft([i]) |从左侧移除元素并返回，用法同上，可与append作为队列使用，但由于后续每位都需要移动，在头部插入和弹出速度较慢|\n",
    "|list.clear()\t|移除列表中的所有项，等于del a[:]。|\n",
    "|list.index(x)\t|返回列表中第一个值为 x 的元素的索引。如果没有匹配的元素就会返回一个错误。|\n",
    "|list.count(x)\t|返回 x 在列表中出现的次数。|\n",
    "|list.sort()\t|对列表中的元素进行排序。|\n",
    "|list.reverse()\t|倒排列表中的元素。|\n",
    "|list.copy()\t|返回列表的浅复制，等于a[:]。|"
   ]
  },
  {
   "cell_type": "code",
   "execution_count": null,
   "metadata": {},
   "outputs": [],
   "source": [
    "#拼接操作\n",
    "a = [1, 2, 3]\n",
    "print(a + [4, 5, 6])\n",
    "# [1, 2, 3, 4, 5, 6]\n",
    "b = a[:]\n",
    "c = a[:]\n",
    "\n",
    "#使用append拼接的注意事项\n",
    "b.append([4, 5, 6])\n",
    "print(b, b[3]) # [1, 2, 3, [4, 5, 6]] [4, 5, 6], 方法错误\n",
    "# append前后一致必须一个一个进行拼接\n",
    "for i in [4, 5, 6]:\n",
    "    c.append(i)\n",
    "print(c) #[1, 2, 3, 4, 5, 6], 结果正确\n",
    "\n",
    "print(type(range(1, 7))) #<class 'range'>\n",
    "\n",
    "\n",
    "#删除操作\n",
    "a[1] = [] # 无法删除\n",
    "print(a) \n",
    "a[1:2] = [] # 可以删除\n",
    "print(a)\n",
    "\n",
    "#set转list后会按从小到大排序\n",
    "d = [6, 2, 5, 5, 4, 5, 3, 5]\n",
    "print(list(set(d)))"
   ]
  },
  {
   "cell_type": "markdown",
   "metadata": {},
   "source": [
    "----"
   ]
  },
  {
   "cell_type": "markdown",
   "metadata": {},
   "source": [
    "#### 元组\n",
    "\n",
    "元组位于括号中，可混杂不同类型数据。\n",
    "可以将字符串视为一种特殊的元组。其内部元素不可修改。\n",
    "切片和索引方式与字符串和列表完全一致。"
   ]
  },
  {
   "cell_type": "code",
   "execution_count": 2,
   "metadata": {},
   "outputs": [
    {
     "name": "stdout",
     "output_type": "stream",
     "text": [
      "1 (2, 3, 4, 5)\n"
     ]
    },
    {
     "ename": "TypeError",
     "evalue": "'tuple' object does not support item assignment",
     "output_type": "error",
     "traceback": [
      "\u001b[1;31m---------------------------------------------------------------------------\u001b[0m",
      "\u001b[1;31mTypeError\u001b[0m                                 Traceback (most recent call last)",
      "\u001b[1;32m<ipython-input-2-85fe54dda14a>\u001b[0m in \u001b[0;36m<module>\u001b[1;34m\u001b[0m\n\u001b[0;32m      1\u001b[0m \u001b[0mtup\u001b[0m \u001b[1;33m=\u001b[0m \u001b[1;33m(\u001b[0m\u001b[1;36m1\u001b[0m\u001b[1;33m,\u001b[0m \u001b[1;36m2\u001b[0m\u001b[1;33m,\u001b[0m \u001b[1;36m3\u001b[0m\u001b[1;33m,\u001b[0m \u001b[1;36m4\u001b[0m\u001b[1;33m,\u001b[0m \u001b[1;36m5\u001b[0m\u001b[1;33m,\u001b[0m \u001b[1;36m6\u001b[0m\u001b[1;33m)\u001b[0m\u001b[1;33m\u001b[0m\u001b[1;33m\u001b[0m\u001b[0m\n\u001b[0;32m      2\u001b[0m \u001b[0mprint\u001b[0m\u001b[1;33m(\u001b[0m\u001b[0mtup\u001b[0m\u001b[1;33m[\u001b[0m\u001b[1;36m0\u001b[0m\u001b[1;33m]\u001b[0m\u001b[1;33m,\u001b[0m \u001b[0mtup\u001b[0m\u001b[1;33m[\u001b[0m\u001b[1;36m1\u001b[0m\u001b[1;33m:\u001b[0m\u001b[1;36m5\u001b[0m\u001b[1;33m]\u001b[0m\u001b[1;33m)\u001b[0m\u001b[1;33m\u001b[0m\u001b[1;33m\u001b[0m\u001b[0m\n\u001b[1;32m----> 3\u001b[1;33m \u001b[0mtup\u001b[0m\u001b[1;33m[\u001b[0m\u001b[1;36m0\u001b[0m\u001b[1;33m]\u001b[0m \u001b[1;33m=\u001b[0m \u001b[1;36m0\u001b[0m \u001b[1;31m#非法操作\u001b[0m\u001b[1;33m\u001b[0m\u001b[1;33m\u001b[0m\u001b[0m\n\u001b[0m",
      "\u001b[1;31mTypeError\u001b[0m: 'tuple' object does not support item assignment"
     ]
    }
   ],
   "source": [
    "tup = (1, 2, 3, 4, 5, 6)\n",
    "print(tup[0], tup[1:5])\n",
    "tup[0] = 0 #非法操作"
   ]
  },
  {
   "cell_type": "code",
   "execution_count": 48,
   "metadata": {},
   "outputs": [
    {
     "name": "stdout",
     "output_type": "stream",
     "text": [
      "<class 'tuple'>\n",
      "<class 'tuple'>\n",
      "<class 'list'>\n",
      "<class 'dict'>\n",
      "<class 'set'>\n"
     ]
    }
   ],
   "source": [
    "a = ()\n",
    "print(type(a)) # <class 'tuple'> , 0元素元组的构造方式1\n",
    "a = tuple()\n",
    "print(type(a))\n",
    "a = []\n",
    "print(type(a)) # <class 'list'> , 可以构造空列表\n",
    "a = {}\n",
    "print(type(a)) # <class 'dict'> , 构造空字典\n",
    "a = set()\n",
    "print(type(a)) # <class 'set'> , 空集合的构造方式"
   ]
  },
  {
   "cell_type": "code",
   "execution_count": 59,
   "metadata": {},
   "outputs": [
    {
     "name": "stdout",
     "output_type": "stream",
     "text": [
      "10 <class 'int'>\n",
      "(10,) <class 'tuple'>\n",
      "('1', '0') <class 'tuple'>\n",
      "(10,) <class 'tuple'>\n",
      "(10,) <class 'tuple'>\n",
      "[10] <class 'list'>\n",
      "[10] <class 'list'>\n",
      "{10} <class 'set'>\n",
      "{10} <class 'set'>\n"
     ]
    }
   ],
   "source": [
    "a = (10)\n",
    "print(a, type(a)) # 10 <class 'int'>\n",
    "a = (10,)\n",
    "print(a, type(a)) # (10,) <class 'tuple'>\n",
    "\n",
    "#不可直接使用int构造\n",
    "#a = tuple(10) #'int' object is not iterable\n",
    "#print(a, type(a)) \n",
    "\n",
    "'''只能通过string，list和tuple构造'''\n",
    "a = tuple('10')\n",
    "print(a, type(a)) # ('1', '0') <class 'tuple'>\n",
    "a = tuple([10])\n",
    "print(a, type(a)) # (10,) <class 'tuple'>\n",
    "a = tuple((10,))\n",
    "print(a, type(a)) # (10,) <class 'tuple'>\n",
    "\n",
    "a = [10]\n",
    "print(a, type(a)) # [10] <class 'list'>\n",
    "a = [10,]\n",
    "print(a, type(a)) # [10] <class 'list'>\n",
    "a = {10}\n",
    "print(a, type(a)) # {10} <class 'set'>\n",
    "a = {10,}\n",
    "print(a, type(a)) # {10} <class 'set'>"
   ]
  },
  {
   "cell_type": "markdown",
   "metadata": {},
   "source": [
    "元组内置函数：<br>\n",
    "len(), max(), min(), cmp(tup1,tup2)"
   ]
  },
  {
   "cell_type": "markdown",
   "metadata": {},
   "source": [
    "----"
   ]
  },
  {
   "cell_type": "markdown",
   "metadata": {},
   "source": [
    "#### 集合\n",
    "\n",
    "集合（set）是一个无序不重复元素的集。\n",
    "基本功能是进行成员关系测试和消除重复元素。\n",
    "可以使用大括号`{}`或者`set()`函数创建set集合。\n",
    "**注意：创建一个空集合必须用`set()`而不是`{}`，`{}`会创建一个空字典。**"
   ]
  },
  {
   "cell_type": "code",
   "execution_count": 47,
   "metadata": {},
   "outputs": [
    {
     "name": "stdout",
     "output_type": "stream",
     "text": [
      "{1, 2, 3, 4}\n",
      "True\n",
      "a-b:{1, 2}\n",
      "b-a:{5, 6}\n",
      "a|b:{1, 2, 3, 4, 5, 6}\n",
      "a&b:{3, 4}\n",
      "a^b:{1, 2, 5, 6}\n"
     ]
    }
   ],
   "source": [
    "a = {1, 2, 3, 4, 1}\n",
    "\n",
    "# print(a[0]) # 报错。集合内部元素无序，不具有下标操作：'set' object is not subscriptable\n",
    "\n",
    "print(a) #{1, 2, 3, 4}, 去掉重复项\n",
    "\n",
    "print(1 in a) # True, 成员测试\n",
    "\n",
    "b = {3, 4, 5, 6}\n",
    "\n",
    "print(\"a-b:%s\\nb-a:%s\\na|b:%s\\na&b:%s\\na^b:%s\"%((a-b),(b-a),(a|b),(a&b),(a^b)))"
   ]
  },
  {
   "cell_type": "markdown",
   "metadata": {},
   "source": [
    "##### 使用`set()`和`{}`的区别"
   ]
  },
  {
   "cell_type": "code",
   "execution_count": 64,
   "metadata": {
    "scrolled": true
   },
   "outputs": [
    {
     "name": "stdout",
     "output_type": "stream",
     "text": [
      "{'asd', 'sdf'}\n",
      "{'a', 'f'}\n",
      "{123}\n",
      "{123} <class 'set'>\n",
      "{123} <class 'set'>\n",
      "{'1', '3', '2'} <class 'set'>\n"
     ]
    }
   ],
   "source": [
    "a = {'asd'}\n",
    "b = {'sdf'}\n",
    "print(a^b) #{'asd', 'sdf'}\n",
    "c = set('asd')\n",
    "d = set('sdf')\n",
    "print(c^d) #{'a', 'f'}\n",
    "\n",
    "e = {123}\n",
    "print(e) #{123}\n",
    "#f = set(123) # set expected at most 1 arguments, got 3\n",
    "#g = set(1,2,3) #'int' object is not iterable\n",
    "\n",
    "'''只能通过Tuple, list或string创建'''\n",
    "h = set([123])\n",
    "print(h, type(h)) # {123} <class 'set'>\n",
    "i = set((123,))\n",
    "print(i, type(i)) # {123} <class 'set'>\n",
    "j = set('123')\n",
    "print(j, type(j)) #{'1', '3', '2'} <class 'set'>"
   ]
  },
  {
   "cell_type": "markdown",
   "metadata": {},
   "source": [
    "----"
   ]
  },
  {
   "cell_type": "markdown",
   "metadata": {},
   "source": [
    "#### 字典\n",
    "字典是一种映射类型（mapping type），它是一个无序的**键-值对集合**。\n",
    "关键字必须使用**不可变类型**，list和包含可变类型的tuple不能做关键字。\n",
    "在同一个字典中，关键字必须互不相同。"
   ]
  },
  {
   "cell_type": "markdown",
   "metadata": {},
   "source": [
    "##### 创建字典的几种方式"
   ]
  },
  {
   "cell_type": "code",
   "execution_count": 136,
   "metadata": {},
   "outputs": [],
   "source": [
    "empty_dict_a = dict()\n",
    "\n",
    "empty_dict_b = {}\n",
    "\n",
    "score_a = {'A':100, 'B':98, 'C':95} # 常用方式\n",
    "\n",
    "score_b = dict(A=100, B=98, C=95) # 注意key不应是字符串\n",
    "\n",
    "score_c = dict(zip(['A', 'B', 'C'],[100, 98, 95])) # 映射函数方式\n",
    "\n",
    "score_d = {zip(['A', 'B', 'C'],[100, 98, 95])} #同上\n",
    "\n",
    "score_e = dict([('A', 100), ('B', 98), ('C', 95)]) # 可迭代对象方式"
   ]
  },
  {
   "cell_type": "markdown",
   "metadata": {},
   "source": [
    "##### 字典操作"
   ]
  },
  {
   "cell_type": "code",
   "execution_count": 134,
   "metadata": {},
   "outputs": [
    {
     "name": "stdout",
     "output_type": "stream",
     "text": [
      "100\n",
      "{'A': 100, 'B': 98}\n",
      "{'A': 100, 'B': 98, 'D': 68}\n",
      "dict_keys(['A', 'B', 'D'])\n",
      "<built-in method keys of dict object at 0x0000019EE20F0B88>\n",
      "<class 'builtin_function_or_method'>\n",
      "<class 'dict_keys'>\n",
      "['A', 'B', 'D']\n",
      "(100, 98, 68)\n"
     ]
    }
   ],
   "source": [
    "score = {'A':100, 'B':98, 'C':95}\n",
    "print(score['A'])\n",
    "\n",
    "del score['C']; print(score)\n",
    "# {'A': 100, 'B': 98}\n",
    "score['D'] = 68; print(score)\n",
    "# {'A': 100, 'B': 98, 'D': 68}\n",
    "print(score.keys()) # dict_keys(['A', 'B', 'D'])\n",
    "print(score.keys) # <built-in method keys of dict object at 0x0000019EE213CE08>\n",
    "\n",
    "print(type(score.keys)) # <class 'builtin_function_or_method'>\n",
    "print(type(score.keys())) # <class 'dict_keys'>\n",
    "\n",
    "print(list(score.keys())) # ['A', 'B', 'D']\n",
    "print(tuple(score.values()))# [100, 98, 68]"
   ]
  },
  {
   "cell_type": "markdown",
   "metadata": {},
   "source": [
    "**注意：**\n",
    "1. 同一个key不可出现两次，否则后者赋值取代前者，而不是共存\n",
    "2. key不能是`collections.abc.MutableSequence`的子类，即必须是不可变类型"
   ]
  },
  {
   "cell_type": "code",
   "execution_count": 12,
   "metadata": {},
   "outputs": [
    {
     "name": "stdout",
     "output_type": "stream",
     "text": [
      "True\n",
      "False\n"
     ]
    }
   ],
   "source": [
    "a = []\n",
    "b = ()\n",
    "import collections\n",
    "print(isinstance(a, collections.abc.MutableSequence))\n",
    "print(isinstance(b, collections.abc.MutableSequence))"
   ]
  },
  {
   "cell_type": "markdown",
   "metadata": {},
   "source": [
    "字典内置函数：<br>\n",
    "len()<br>\n",
    "字典内置方法：<br>\n",
    "dict.clear()<br>\n",
    "dict.copy()<br>\n",
    "dict.fromkeys()<br>\n",
    "dict.get()<br>\n",
    "dict.items()<br>\n",
    "dict.keys()<br>\n",
    "dict.setdefault()<br>\n",
    "dict.update()<br>\n",
    "dict.values() "
   ]
  },
  {
   "cell_type": "markdown",
   "metadata": {},
   "source": [
    "### 遍历技巧"
   ]
  },
  {
   "cell_type": "markdown",
   "metadata": {},
   "source": [
    "**在字典中使用item()**"
   ]
  },
  {
   "cell_type": "code",
   "execution_count": 142,
   "metadata": {},
   "outputs": [
    {
     "name": "stdout",
     "output_type": "stream",
     "text": [
      "A 100\n",
      "B 98\n",
      "C 95\n"
     ]
    }
   ],
   "source": [
    "score = {'A':100, 'B':98, 'C':95}\n",
    "for key, value in score.items():\n",
    "     print(key, value)"
   ]
  },
  {
   "cell_type": "markdown",
   "metadata": {},
   "source": [
    "**在序列中使用enumerate()同时返回编号**"
   ]
  },
  {
   "cell_type": "code",
   "execution_count": 145,
   "metadata": {},
   "outputs": [
    {
     "name": "stdout",
     "output_type": "stream",
     "text": [
      "0 h  1 e  2 l  3 l  4 o  0 1  1 2  2 3  3 4  4 5  0 a  1 1  2 b  3 2  4 c  "
     ]
    }
   ],
   "source": [
    "a = 'hello'\n",
    "b = [1, 2, 3, 4, 5]\n",
    "c = ('a', 1, 'b', 2, 'c')\n",
    "for i, v in enumerate(a):\n",
    "     print(i, v, end = '  ')\n",
    "for i, v in enumerate(b):\n",
    "     print(i, v, end = '  ')\n",
    "for i, v in enumerate(c):\n",
    "     print(i, v, end = '  ')"
   ]
  },
  {
   "cell_type": "markdown",
   "metadata": {},
   "source": [
    "**使用zip()同时遍历多个序列：**"
   ]
  },
  {
   "cell_type": "code",
   "execution_count": 150,
   "metadata": {},
   "outputs": [
    {
     "name": "stdout",
     "output_type": "stream",
     "text": [
      "Name:J, Score:100, grade:A\n",
      "Name:D, Score:90, grade:B\n",
      "Name:T, Score:80, grade:C\n",
      "Name:B, Score:60, grade:D\n"
     ]
    }
   ],
   "source": [
    "name_ = ['J','D','T','B']\n",
    "score = [100, 90, 80, 60]\n",
    "grade = 'ABCD'\n",
    "for i, j, k in zip(name_, score, grade):\n",
    "    print('Name:{}, Score:{}, grade:{}'.format(i, j, k))"
   ]
  },
  {
   "cell_type": "markdown",
   "metadata": {},
   "source": [
    "**使用reversed()反向遍历序列：**"
   ]
  },
  {
   "cell_type": "code",
   "execution_count": 162,
   "metadata": {},
   "outputs": [
    {
     "name": "stdout",
     "output_type": "stream",
     "text": [
      "9\n",
      "8\n",
      "7\n",
      "6\n",
      "5\n",
      "4\n",
      "3\n",
      "2\n",
      "1\n",
      "[9, 8, 7, 6, 5, 4, 3, 2, 1]\n"
     ]
    }
   ],
   "source": [
    "for i in reversed(range(1, 10, 1)):\n",
    "     print(i)\n",
    "        \n",
    "print(list(reversed(range(1, 10, 1))))"
   ]
  },
  {
   "cell_type": "markdown",
   "metadata": {},
   "source": [
    "**使用sorted()遍历序列并排序：**"
   ]
  },
  {
   "cell_type": "code",
   "execution_count": 163,
   "metadata": {},
   "outputs": [
    {
     "name": "stdout",
     "output_type": "stream",
     "text": [
      "[50, 60, 70, 80, 80, 90, 100]\n",
      "['apple', 'banana', 'orange', 'pear']\n",
      "['apple', 'orange', 'apple', 'pear', 'orange', 'banana']\n",
      "apple\n",
      "banana\n",
      "orange\n",
      "pear\n"
     ]
    }
   ],
   "source": [
    "score = [100, 90, 80, 60, 70, 80, 50]\n",
    "print(sorted(score))\n",
    "\n",
    "basket = ['apple', 'orange', 'apple', 'pear', 'orange', 'banana']\n",
    "print(list(sorted((set(basket)))))\n",
    "print(basket)\n",
    "for f in sorted(set(basket)): #不改变原值\n",
    "     print(f)"
   ]
  },
  {
   "cell_type": "code",
   "execution_count": null,
   "metadata": {},
   "outputs": [],
   "source": []
  },
  {
   "cell_type": "markdown",
   "metadata": {},
   "source": [
    "**注意：以上数据类型中只有字符串string、列表list、元组tuple属于序列Sequence的子类**，dict和set不可使用下标操作"
   ]
  },
  {
   "cell_type": "code",
   "execution_count": 8,
   "metadata": {},
   "outputs": [
    {
     "name": "stdout",
     "output_type": "stream",
     "text": [
      "True\n",
      "True\n",
      "True\n",
      "False\n",
      "False\n"
     ]
    }
   ],
   "source": [
    "a = ''\n",
    "b = []\n",
    "c = ()\n",
    "d = {}\n",
    "e = set()\n",
    "import collections\n",
    "print(isinstance(a, collections.abc.Sequence))\n",
    "print(isinstance(b, collections.abc.Sequence))\n",
    "print(isinstance(c, collections.abc.Sequence))\n",
    "print(isinstance(d, collections.abc.Sequence))\n",
    "print(isinstance(e, collections.abc.Sequence))"
   ]
  },
  {
   "cell_type": "markdown",
   "metadata": {},
   "source": [
    "### 解释器和编程方式\n",
    "* 解释器(interpreter):<br/>\n",
    "**An interpreter is a program that reads and executes code. ** Python is called an interpreted language because it goes through an interpreter, which turns code you write into the language understood by your computer’s processor.\n",
    "* 交互式编程\n",
    "* 脚本式编程"
   ]
  },
  {
   "cell_type": "markdown",
   "metadata": {},
   "source": [
    "### 运算符\n",
    "#### 算术运算符\n",
    "\\+  &emsp;  &  &emsp;  -  &emsp;  *  &emsp;  /  &emsp; %  &emsp;  **  &emsp;  //\n",
    "#### 比较运算符\n",
    "==  &emsp;  !=  &emsp;  >  &emsp;  <  &emsp;  >=  &emsp;  <=\n",
    "#### 赋值运算符\n",
    "=  &emsp;  +=  &emsp;  -=  &emsp;  *=  &emsp;  /=  &emsp;  %=  &emsp;  **=  &emsp;  //=\n",
    "#### 按位运算符\n",
    "&  &emsp;  |  &emsp;  ^  &emsp;  ~  &emsp;  <<  &emsp;  >>\n",
    "#### 逻辑运算符\n",
    "and  &emsp;  or  &emsp;  not\n",
    "#### 成员运算符\n",
    "in  &emsp;  not in\n",
    "#### 身份运算符\n",
    "is  &emsp;  is not\n",
    "#### 运算符优先级"
   ]
  },
  {
   "cell_type": "code",
   "execution_count": null,
   "metadata": {},
   "outputs": [],
   "source": []
  }
 ],
 "metadata": {
  "kernelspec": {
   "display_name": "Python 3",
   "language": "python",
   "name": "python3"
  },
  "language_info": {
   "codemirror_mode": {
    "name": "ipython",
    "version": 3
   },
   "file_extension": ".py",
   "mimetype": "text/x-python",
   "name": "python",
   "nbconvert_exporter": "python",
   "pygments_lexer": "ipython3",
   "version": "3.7.7"
  }
 },
 "nbformat": 4,
 "nbformat_minor": 4
}
